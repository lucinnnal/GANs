{
  "nbformat": 4,
  "nbformat_minor": 0,
  "metadata": {
    "colab": {
      "provenance": [],
      "gpuType": "T4",
      "authorship_tag": "ABX9TyO4HYDyWuNxlsKs1CgMhPgP",
      "include_colab_link": true
    },
    "kernelspec": {
      "name": "python3",
      "display_name": "Python 3"
    },
    "language_info": {
      "name": "python"
    },
    "accelerator": "GPU"
  },
  "cells": [
    {
      "cell_type": "markdown",
      "metadata": {
        "id": "view-in-github",
        "colab_type": "text"
      },
      "source": [
        "<a href=\"https://colab.research.google.com/github/lucinnnal/GANs/blob/main/Generative_Adversarial_Networks_with_MNIST.ipynb\" target=\"_parent\"><img src=\"https://colab.research.google.com/assets/colab-badge.svg\" alt=\"Open In Colab\"/></a>"
      ]
    },
    {
      "cell_type": "code",
      "execution_count": null,
      "metadata": {
        "id": "9HooypVtLdXo"
      },
      "outputs": [],
      "source": [
        "import torch\n",
        "import torchvision\n",
        "import torch.nn as nn\n",
        "\n",
        "from torchvision import datasets\n",
        "import torchvision.transforms as transforms\n",
        "from torchvision.utils import save_image # 텐서를 이미지로 변환하고 지정된 경로에 저장할 수 있도록 도와줍니다."
      ]
    },
    {
      "cell_type": "code",
      "source": [
        "\"\"\"\n",
        "torchvision.utils.save_image(\n",
        "    tensor,             # 저장할 텐서\n",
        "    filename,           # 저장될 파일 경로 (파일명 포함)\n",
        "    nrow=1,             # 한 행에 표시할 이미지 수 (배열 형식 저장 시)\n",
        "    padding=2,          # 이미지 간의 패딩 (픽셀 단위)\n",
        "    normalize=False,    # 정규화 여부 (True로 설정 시, [0, 1] 범위로 스케일링)\n",
        "    range=None,         # 정규화 범위 (normalize=True일 때 유효)\n",
        "    scale_each=False,   # 각 이미지별로 정규화 여부\n",
        "    pad_value=0         # 패딩 영역의 값 (기본값: 0)\n",
        ")\n",
        "\"\"\""
      ],
      "metadata": {
        "colab": {
          "base_uri": "https://localhost:8080/",
          "height": 72
        },
        "id": "v4eh0MizMk__",
        "outputId": "89e3ff0b-f103-460d-deec-56383344dbee"
      },
      "execution_count": null,
      "outputs": [
        {
          "output_type": "execute_result",
          "data": {
            "text/plain": [
              "'\\ntorchvision.utils.save_image(\\n    tensor,             # 저장할 텐서\\n    filename,           # 저장될 파일 경로 (파일명 포함)\\n    nrow=1,             # 한 행에 표시할 이미지 수 (배열 형식 저장 시)\\n    padding=2,          # 이미지 간의 패딩 (픽셀 단위)\\n    normalize=False,    # 정규화 여부 (True로 설정 시, [0, 1] 범위로 스케일링)\\n    range=None,         # 정규화 범위 (normalize=True일 때 유효)\\n    scale_each=False,   # 각 이미지별로 정규화 여부\\n    pad_value=0         # 패딩 영역의 값 (기본값: 0)\\n)\\n'"
            ],
            "application/vnd.google.colaboratory.intrinsic+json": {
              "type": "string"
            }
          },
          "metadata": {},
          "execution_count": 2
        }
      ]
    },
    {
      "cell_type": "code",
      "source": [
        "device = torch.device('cuda' if torch.cuda.is_available() else 'cpu')"
      ],
      "metadata": {
        "id": "9l81CauxYU_6"
      },
      "execution_count": null,
      "outputs": []
    },
    {
      "cell_type": "code",
      "source": [
        "# Generator\n",
        "latent_dim = 100 # (noise vector dimension)\n",
        "\n",
        "class Generator(nn.Module):\n",
        "  def __init__(self):\n",
        "    super().__init__()\n",
        "\n",
        "    # the blocks that are appended to the layers (MLP)\n",
        "    def block(input_dim, output_dim, normalize = True):\n",
        "      layers = [nn.Linear(input_dim, output_dim)]\n",
        "      if normalize:\n",
        "        layers.append(nn.BatchNorm1d(output_dim, 0.8))\n",
        "      layers.append(nn.LeakyReLU(0.2, inplace = True)) # inplace = True 는 tensor 그 자체를 변환 시켜준다.\n",
        "      return layers\n",
        "\n",
        "    self.model = nn.Sequential(\n",
        "        *block(latent_dim, 128, normalize = False),\n",
        "        *block(128, 256),\n",
        "        *block(256, 512),\n",
        "        *block(512,1024),\n",
        "        nn.Linear(1024, 1 * 28 * 28), # final image tensor creation\n",
        "        nn.Tanh() # range from -1 to 1 shape = [batch_size, 1 * 28 * 28]\n",
        "    )\n",
        "\n",
        "  def forward(self, z):\n",
        "    image = self.model(z)\n",
        "    image = image.view(image.size(0), 1, 28, 28) # image creation (flatten -> 3d tensor)\n",
        "    return image"
      ],
      "metadata": {
        "id": "lAlPQxH-OWWy"
      },
      "execution_count": null,
      "outputs": []
    },
    {
      "cell_type": "code",
      "source": [
        "class Discriminator(nn.Module):\n",
        "  def __init__(self):\n",
        "    super().__init__()\n",
        "\n",
        "    self.model = nn.Sequential(\n",
        "        nn.Linear(1*28*28, 512),\n",
        "        nn.LeakyReLU(0.2, inplace = True),\n",
        "        nn.Linear(512, 256),\n",
        "        nn.LeakyReLU(0.2, inplace = True),\n",
        "        nn.Linear(256,1),\n",
        "        nn.Sigmoid()\n",
        "    )\n",
        "\n",
        "  def forward(self, img):\n",
        "    flatten = img.view(img.size(0), -1)\n",
        "    result = self.model(flatten)\n",
        "    return result"
      ],
      "metadata": {
        "id": "MEXQaPx5RyeG"
      },
      "execution_count": null,
      "outputs": []
    },
    {
      "cell_type": "code",
      "source": [
        "# transforms\n",
        "transforms = transforms.Compose([\n",
        "    transforms.Resize(28),\n",
        "    transforms.ToTensor(),\n",
        "    transforms.Normalize([0.5], [0.5])\n",
        "])\n",
        "\n",
        "train_dataset = datasets.MNIST(root=\"./dataset\", train=True, download=True, transform=transforms)\n",
        "dataloader = torch.utils.data.DataLoader(train_dataset, batch_size=128, shuffle=True, num_workers = 4)"
      ],
      "metadata": {
        "colab": {
          "base_uri": "https://localhost:8080/"
        },
        "id": "QYUvChGwV5Ix",
        "outputId": "0eef073e-a72c-4b32-8234-3e627a622b81"
      },
      "execution_count": null,
      "outputs": [
        {
          "output_type": "stream",
          "name": "stdout",
          "text": [
            "Downloading http://yann.lecun.com/exdb/mnist/train-images-idx3-ubyte.gz\n",
            "Failed to download (trying next):\n",
            "HTTP Error 403: Forbidden\n",
            "\n",
            "Downloading https://ossci-datasets.s3.amazonaws.com/mnist/train-images-idx3-ubyte.gz\n",
            "Downloading https://ossci-datasets.s3.amazonaws.com/mnist/train-images-idx3-ubyte.gz to ./dataset/MNIST/raw/train-images-idx3-ubyte.gz\n"
          ]
        },
        {
          "output_type": "stream",
          "name": "stderr",
          "text": [
            "100%|██████████| 9.91M/9.91M [00:11<00:00, 897kB/s] \n"
          ]
        },
        {
          "output_type": "stream",
          "name": "stdout",
          "text": [
            "Extracting ./dataset/MNIST/raw/train-images-idx3-ubyte.gz to ./dataset/MNIST/raw\n",
            "\n",
            "Downloading http://yann.lecun.com/exdb/mnist/train-labels-idx1-ubyte.gz\n",
            "Failed to download (trying next):\n",
            "HTTP Error 403: Forbidden\n",
            "\n",
            "Downloading https://ossci-datasets.s3.amazonaws.com/mnist/train-labels-idx1-ubyte.gz\n",
            "Downloading https://ossci-datasets.s3.amazonaws.com/mnist/train-labels-idx1-ubyte.gz to ./dataset/MNIST/raw/train-labels-idx1-ubyte.gz\n"
          ]
        },
        {
          "output_type": "stream",
          "name": "stderr",
          "text": [
            "100%|██████████| 28.9k/28.9k [00:00<00:00, 134kB/s]\n"
          ]
        },
        {
          "output_type": "stream",
          "name": "stdout",
          "text": [
            "Extracting ./dataset/MNIST/raw/train-labels-idx1-ubyte.gz to ./dataset/MNIST/raw\n",
            "\n",
            "Downloading http://yann.lecun.com/exdb/mnist/t10k-images-idx3-ubyte.gz\n",
            "Failed to download (trying next):\n",
            "HTTP Error 403: Forbidden\n",
            "\n",
            "Downloading https://ossci-datasets.s3.amazonaws.com/mnist/t10k-images-idx3-ubyte.gz\n",
            "Downloading https://ossci-datasets.s3.amazonaws.com/mnist/t10k-images-idx3-ubyte.gz to ./dataset/MNIST/raw/t10k-images-idx3-ubyte.gz\n"
          ]
        },
        {
          "output_type": "stream",
          "name": "stderr",
          "text": [
            "100%|██████████| 1.65M/1.65M [00:06<00:00, 243kB/s]\n"
          ]
        },
        {
          "output_type": "stream",
          "name": "stdout",
          "text": [
            "Extracting ./dataset/MNIST/raw/t10k-images-idx3-ubyte.gz to ./dataset/MNIST/raw\n",
            "\n",
            "Downloading http://yann.lecun.com/exdb/mnist/t10k-labels-idx1-ubyte.gz\n",
            "Failed to download (trying next):\n",
            "HTTP Error 403: Forbidden\n",
            "\n",
            "Downloading https://ossci-datasets.s3.amazonaws.com/mnist/t10k-labels-idx1-ubyte.gz\n",
            "Downloading https://ossci-datasets.s3.amazonaws.com/mnist/t10k-labels-idx1-ubyte.gz to ./dataset/MNIST/raw/t10k-labels-idx1-ubyte.gz\n"
          ]
        },
        {
          "output_type": "stream",
          "name": "stderr",
          "text": [
            "100%|██████████| 4.54k/4.54k [00:00<00:00, 4.39MB/s]"
          ]
        },
        {
          "output_type": "stream",
          "name": "stdout",
          "text": [
            "Extracting ./dataset/MNIST/raw/t10k-labels-idx1-ubyte.gz to ./dataset/MNIST/raw\n",
            "\n"
          ]
        },
        {
          "output_type": "stream",
          "name": "stderr",
          "text": [
            "\n",
            "/usr/local/lib/python3.10/dist-packages/torch/utils/data/dataloader.py:617: UserWarning: This DataLoader will create 4 worker processes in total. Our suggested max number of worker in current system is 2, which is smaller than what this DataLoader is going to create. Please be aware that excessive worker creation might get DataLoader running slow or even freeze, lower the worker number to avoid potential slowness/freeze if necessary.\n",
            "  warnings.warn(\n"
          ]
        }
      ]
    },
    {
      "cell_type": "code",
      "source": [
        "generator = Generator()\n",
        "discriminator = Discriminator()\n",
        "\n",
        "generator.cuda()\n",
        "discriminator.to(device)\n",
        "\n",
        "adversarial_loss = nn.BCELoss()\n",
        "adversarial_loss.to(device)\n",
        "\n",
        "\n",
        "lr = 0.0002\n",
        "\n",
        "optimizer_G = torch.optim.Adam(generator.parameters(), lr = lr, betas=(0.5, 0.999))\n",
        "optimizer_D = torch.optim.Adam(discriminator.parameters(), lr = lr, betas=(0.5, 0.999))"
      ],
      "metadata": {
        "id": "ojK3aOgkV4xs"
      },
      "execution_count": null,
      "outputs": []
    },
    {
      "cell_type": "markdown",
      "source": [
        "Optimizer는 모델의 파라미터에 의존\n",
        "optimizer는 모델의 파라미터를 참조하며, 이 파라미터들이 이미 올바른 디바이스에 위치하고 있기 때문에, optimizer 자체를 별도로 다른 디바이스로 이동시킬 필요가 없습니다."
      ],
      "metadata": {
        "id": "87QYTeMIZ41X"
      }
    },
    {
      "cell_type": "code",
      "source": [
        "import time\n",
        "\n",
        "epochs = 200\n",
        "sample_interval = 2000\n",
        "start_time = time.time()\n",
        "\n",
        "for epoch in range(epochs):\n",
        "  for i, (imgs, _) in enumerate(dataloader):\n",
        "\n",
        "    real = torch.FloatTensor(imgs.size(0), 1).fill_(1.0).to(device) # 진짜(real): 1\n",
        "    fake = torch.FloatTensor(imgs.size(0), 1).fill_(0.0).to(device) # 가짜(fake): 0\n",
        "\n",
        "    real_imgs = imgs.to(device)\n",
        "\n",
        "    # Generator Training First\n",
        "    optimizer_G.zero_grad()\n",
        "    # noise sampling -> shape [batchsize, latent_dim]\n",
        "    noise = torch.normal(mean = 0, std = 1, size = (imgs.shape[0], latent_dim)).to(device)\n",
        "\n",
        "    # generate images\n",
        "    generated_imgs = generator(noise)\n",
        "\n",
        "    # generator loss calculation\n",
        "    generator_loss = adversarial_loss(discriminator(generated_imgs), real) # the generator ones should be trained to create the images that's similar to real ones -> purpose : discriminator will assume it as 1(real).\n",
        "\n",
        "    # backward & optimizer.step\n",
        "    generator_loss.backward()\n",
        "    optimizer_G.step()\n",
        "\n",
        "    # Discriminator Training Second -> The discriminator should real -> 1, fakes -> 0\n",
        "    optimizer_D.zero_grad()\n",
        "\n",
        "    real_loss = adversarial_loss(discriminator(real_imgs), real)\n",
        "    fake_loss = adversarial_loss(discriminator(generated_imgs.detach()), fake)\n",
        "\n",
        "    D_loss = (real_loss + fake_loss) / 2\n",
        "\n",
        "    D_loss.backward()\n",
        "    optimizer_D.step()\n",
        "\n",
        "    done = epoch * len(dataloader) + i # -> 현재까지 진행된 배치 수 출력!\n",
        "    if done % sample_interval == 0:\n",
        "        # 생성된 이미지 중에서 25개만 선택하여 5 X 5 격자 이미지에 출력\n",
        "        save_image(generated_imgs.data[:25], f\"{done}.png\", nrow=5, normalize=True)\n",
        "\n",
        "  # 하나의 epoch이 끝날 때마다 로그(log) 출력\n",
        "  print(f\"[Epoch {epoch}/{epochs}] [D loss: {D_loss.item():.6f}] [G loss: {generator_loss.item():.6f}] [Elapsed time: {time.time() - start_time:.2f}s]\")\n"
      ],
      "metadata": {
        "colab": {
          "base_uri": "https://localhost:8080/"
        },
        "id": "DMFUo4DDYq7U",
        "outputId": "4dcf3ec7-116f-422d-ef88-38ed376388d5"
      },
      "execution_count": null,
      "outputs": [
        {
          "output_type": "stream",
          "name": "stdout",
          "text": [
            "[Epoch 0/200] [D loss: 0.502041] [G loss: 0.966228] [Elapsed time: 16.93s]\n",
            "[Epoch 1/200] [D loss: 0.586556] [G loss: 0.424154] [Elapsed time: 32.59s]\n",
            "[Epoch 2/200] [D loss: 0.440869] [G loss: 0.715792] [Elapsed time: 48.88s]\n",
            "[Epoch 3/200] [D loss: 0.332163] [G loss: 1.488542] [Elapsed time: 66.90s]\n",
            "[Epoch 4/200] [D loss: 0.268628] [G loss: 1.496626] [Elapsed time: 84.20s]\n",
            "[Epoch 5/200] [D loss: 0.210796] [G loss: 2.024996] [Elapsed time: 99.88s]\n",
            "[Epoch 6/200] [D loss: 0.268943] [G loss: 1.162457] [Elapsed time: 116.05s]\n",
            "[Epoch 7/200] [D loss: 0.532374] [G loss: 0.493675] [Elapsed time: 132.89s]\n",
            "[Epoch 8/200] [D loss: 0.289610] [G loss: 2.647757] [Elapsed time: 149.83s]\n",
            "[Epoch 9/200] [D loss: 0.294159] [G loss: 1.401614] [Elapsed time: 165.77s]\n",
            "[Epoch 10/200] [D loss: 0.229754] [G loss: 1.999683] [Elapsed time: 185.89s]\n",
            "[Epoch 11/200] [D loss: 0.299919] [G loss: 1.077437] [Elapsed time: 201.75s]\n",
            "[Epoch 12/200] [D loss: 0.209720] [G loss: 1.401726] [Elapsed time: 217.50s]\n",
            "[Epoch 13/200] [D loss: 0.197777] [G loss: 2.453346] [Elapsed time: 233.31s]\n",
            "[Epoch 14/200] [D loss: 0.168518] [G loss: 2.436136] [Elapsed time: 248.95s]\n",
            "[Epoch 15/200] [D loss: 0.132403] [G loss: 2.138170] [Elapsed time: 266.37s]\n",
            "[Epoch 16/200] [D loss: 0.218193] [G loss: 2.174667] [Elapsed time: 282.20s]\n",
            "[Epoch 17/200] [D loss: 0.258096] [G loss: 1.494189] [Elapsed time: 297.83s]\n",
            "[Epoch 18/200] [D loss: 0.228754] [G loss: 5.403651] [Elapsed time: 313.51s]\n",
            "[Epoch 19/200] [D loss: 0.252174] [G loss: 1.321857] [Elapsed time: 329.13s]\n",
            "[Epoch 20/200] [D loss: 0.315481] [G loss: 4.753245] [Elapsed time: 346.10s]\n",
            "[Epoch 21/200] [D loss: 0.178254] [G loss: 2.049257] [Elapsed time: 361.94s]\n",
            "[Epoch 22/200] [D loss: 0.473674] [G loss: 8.197226] [Elapsed time: 377.41s]\n",
            "[Epoch 23/200] [D loss: 0.221630] [G loss: 3.321555] [Elapsed time: 393.00s]\n",
            "[Epoch 24/200] [D loss: 0.158081] [G loss: 2.343548] [Elapsed time: 408.80s]\n",
            "[Epoch 25/200] [D loss: 0.158212] [G loss: 2.033032] [Elapsed time: 424.27s]\n",
            "[Epoch 26/200] [D loss: 0.117318] [G loss: 2.431704] [Elapsed time: 440.65s]\n",
            "[Epoch 27/200] [D loss: 0.115533] [G loss: 2.678653] [Elapsed time: 456.10s]\n",
            "[Epoch 28/200] [D loss: 0.172432] [G loss: 2.617510] [Elapsed time: 471.55s]\n",
            "[Epoch 29/200] [D loss: 0.080319] [G loss: 2.978610] [Elapsed time: 487.08s]\n",
            "[Epoch 30/200] [D loss: 0.127073] [G loss: 2.312065] [Elapsed time: 502.65s]\n",
            "[Epoch 31/200] [D loss: 0.173261] [G loss: 1.808122] [Elapsed time: 518.94s]\n",
            "[Epoch 32/200] [D loss: 0.168655] [G loss: 4.413032] [Elapsed time: 535.24s]\n",
            "[Epoch 33/200] [D loss: 0.109175] [G loss: 2.315769] [Elapsed time: 550.75s]\n",
            "[Epoch 34/200] [D loss: 0.126807] [G loss: 2.564908] [Elapsed time: 566.30s]\n",
            "[Epoch 35/200] [D loss: 0.318440] [G loss: 4.384910] [Elapsed time: 581.76s]\n",
            "[Epoch 36/200] [D loss: 0.185742] [G loss: 3.096779] [Elapsed time: 597.44s]\n",
            "[Epoch 37/200] [D loss: 0.467531] [G loss: 0.893827] [Elapsed time: 613.86s]\n",
            "[Epoch 38/200] [D loss: 0.176933] [G loss: 2.720858] [Elapsed time: 629.20s]\n",
            "[Epoch 39/200] [D loss: 0.288963] [G loss: 3.530346] [Elapsed time: 644.53s]\n",
            "[Epoch 40/200] [D loss: 0.199462] [G loss: 3.528930] [Elapsed time: 660.04s]\n",
            "[Epoch 41/200] [D loss: 0.220795] [G loss: 1.479578] [Elapsed time: 675.40s]\n",
            "[Epoch 42/200] [D loss: 0.184510] [G loss: 1.753086] [Elapsed time: 691.44s]\n",
            "[Epoch 43/200] [D loss: 1.392074] [G loss: 12.083774] [Elapsed time: 707.62s]\n",
            "[Epoch 44/200] [D loss: 0.140704] [G loss: 3.970210] [Elapsed time: 723.24s]\n",
            "[Epoch 45/200] [D loss: 0.170405] [G loss: 3.253979] [Elapsed time: 738.67s]\n",
            "[Epoch 46/200] [D loss: 0.883737] [G loss: 6.728942] [Elapsed time: 754.31s]\n",
            "[Epoch 47/200] [D loss: 0.143779] [G loss: 2.106323] [Elapsed time: 770.03s]\n",
            "[Epoch 48/200] [D loss: 0.111192] [G loss: 2.375552] [Elapsed time: 786.96s]\n",
            "[Epoch 49/200] [D loss: 0.166384] [G loss: 4.424240] [Elapsed time: 802.63s]\n",
            "[Epoch 50/200] [D loss: 0.265095] [G loss: 4.899804] [Elapsed time: 818.28s]\n",
            "[Epoch 51/200] [D loss: 0.088524] [G loss: 2.527626] [Elapsed time: 834.49s]\n",
            "[Epoch 52/200] [D loss: 0.150659] [G loss: 2.334821] [Elapsed time: 851.19s]\n",
            "[Epoch 53/200] [D loss: 0.435308] [G loss: 5.720181] [Elapsed time: 868.25s]\n",
            "[Epoch 54/200] [D loss: 0.100127] [G loss: 2.359073] [Elapsed time: 884.16s]\n",
            "[Epoch 55/200] [D loss: 0.125238] [G loss: 2.455587] [Elapsed time: 899.97s]\n",
            "[Epoch 56/200] [D loss: 0.528476] [G loss: 8.196687] [Elapsed time: 915.41s]\n",
            "[Epoch 57/200] [D loss: 0.254475] [G loss: 3.085630] [Elapsed time: 931.12s]\n",
            "[Epoch 58/200] [D loss: 0.249260] [G loss: 5.423586] [Elapsed time: 947.37s]\n",
            "[Epoch 59/200] [D loss: 0.230135] [G loss: 3.564048] [Elapsed time: 963.12s]\n",
            "[Epoch 60/200] [D loss: 0.164721] [G loss: 2.816687] [Elapsed time: 978.58s]\n",
            "[Epoch 61/200] [D loss: 0.353982] [G loss: 5.508916] [Elapsed time: 994.41s]\n",
            "[Epoch 62/200] [D loss: 0.159715] [G loss: 2.547193] [Elapsed time: 1010.20s]\n",
            "[Epoch 63/200] [D loss: 0.095129] [G loss: 5.601893] [Elapsed time: 1027.26s]\n",
            "[Epoch 64/200] [D loss: 0.182571] [G loss: 1.585025] [Elapsed time: 1043.08s]\n",
            "[Epoch 65/200] [D loss: 0.146476] [G loss: 2.051314] [Elapsed time: 1059.10s]\n",
            "[Epoch 66/200] [D loss: 0.149653] [G loss: 4.929016] [Elapsed time: 1074.79s]\n",
            "[Epoch 67/200] [D loss: 0.234700] [G loss: 3.516676] [Elapsed time: 1090.75s]\n",
            "[Epoch 68/200] [D loss: 0.149360] [G loss: 2.283187] [Elapsed time: 1107.75s]\n",
            "[Epoch 69/200] [D loss: 0.287768] [G loss: 6.925430] [Elapsed time: 1123.96s]\n",
            "[Epoch 70/200] [D loss: 0.166601] [G loss: 3.014236] [Elapsed time: 1140.04s]\n",
            "[Epoch 71/200] [D loss: 0.193971] [G loss: 2.990904] [Elapsed time: 1156.91s]\n",
            "[Epoch 72/200] [D loss: 0.082849] [G loss: 4.588702] [Elapsed time: 1174.40s]\n",
            "[Epoch 73/200] [D loss: 0.187125] [G loss: 5.344089] [Elapsed time: 1191.86s]\n",
            "[Epoch 74/200] [D loss: 0.391283] [G loss: 6.874530] [Elapsed time: 1208.97s]\n",
            "[Epoch 75/200] [D loss: 0.178015] [G loss: 1.713310] [Elapsed time: 1225.59s]\n",
            "[Epoch 76/200] [D loss: 0.141903] [G loss: 2.265315] [Elapsed time: 1243.33s]\n",
            "[Epoch 77/200] [D loss: 0.056215] [G loss: 3.406033] [Elapsed time: 1259.28s]\n",
            "[Epoch 78/200] [D loss: 3.613338] [G loss: 21.279772] [Elapsed time: 1275.84s]\n",
            "[Epoch 79/200] [D loss: 0.198986] [G loss: 4.406693] [Elapsed time: 1292.20s]\n",
            "[Epoch 80/200] [D loss: 0.164820] [G loss: 5.661205] [Elapsed time: 1309.09s]\n",
            "[Epoch 81/200] [D loss: 0.157909] [G loss: 1.756749] [Elapsed time: 1326.38s]\n",
            "[Epoch 82/200] [D loss: 0.131531] [G loss: 2.324930] [Elapsed time: 1342.53s]\n",
            "[Epoch 83/200] [D loss: 0.141474] [G loss: 2.362041] [Elapsed time: 1358.67s]\n",
            "[Epoch 84/200] [D loss: 0.183542] [G loss: 2.594806] [Elapsed time: 1374.72s]\n",
            "[Epoch 85/200] [D loss: 0.088765] [G loss: 2.946573] [Elapsed time: 1392.16s]\n",
            "[Epoch 86/200] [D loss: 0.084119] [G loss: 2.989449] [Elapsed time: 1408.53s]\n",
            "[Epoch 87/200] [D loss: 0.091112] [G loss: 4.233334] [Elapsed time: 1424.74s]\n",
            "[Epoch 88/200] [D loss: 0.116890] [G loss: 3.532198] [Elapsed time: 1440.59s]\n",
            "[Epoch 89/200] [D loss: 0.142820] [G loss: 2.773872] [Elapsed time: 1457.47s]\n",
            "[Epoch 90/200] [D loss: 0.138697] [G loss: 3.168108] [Elapsed time: 1474.69s]\n",
            "[Epoch 91/200] [D loss: 0.320403] [G loss: 6.050007] [Elapsed time: 1490.95s]\n",
            "[Epoch 92/200] [D loss: 0.206272] [G loss: 2.745405] [Elapsed time: 1507.00s]\n",
            "[Epoch 93/200] [D loss: 0.158754] [G loss: 1.719886] [Elapsed time: 1523.25s]\n",
            "[Epoch 94/200] [D loss: 0.098313] [G loss: 2.804431] [Elapsed time: 1540.57s]\n",
            "[Epoch 95/200] [D loss: 0.103947] [G loss: 2.717755] [Elapsed time: 1556.81s]\n",
            "[Epoch 96/200] [D loss: 0.190796] [G loss: 2.511806] [Elapsed time: 1573.00s]\n",
            "[Epoch 97/200] [D loss: 0.110777] [G loss: 3.359202] [Elapsed time: 1588.80s]\n",
            "[Epoch 98/200] [D loss: 0.050638] [G loss: 3.983273] [Elapsed time: 1604.79s]\n",
            "[Epoch 99/200] [D loss: 0.247314] [G loss: 3.201845] [Elapsed time: 1621.94s]\n",
            "[Epoch 100/200] [D loss: 0.142793] [G loss: 2.352602] [Elapsed time: 1637.99s]\n",
            "[Epoch 101/200] [D loss: 0.174806] [G loss: 2.738348] [Elapsed time: 1653.84s]\n",
            "[Epoch 102/200] [D loss: 0.227913] [G loss: 3.048126] [Elapsed time: 1669.88s]\n",
            "[Epoch 103/200] [D loss: 0.070710] [G loss: 3.663057] [Elapsed time: 1686.31s]\n",
            "[Epoch 104/200] [D loss: 0.168355] [G loss: 2.860478] [Elapsed time: 1702.93s]\n",
            "[Epoch 105/200] [D loss: 0.102251] [G loss: 3.479673] [Elapsed time: 1719.02s]\n",
            "[Epoch 106/200] [D loss: 0.131574] [G loss: 2.863242] [Elapsed time: 1734.98s]\n",
            "[Epoch 107/200] [D loss: 0.284939] [G loss: 1.833346] [Elapsed time: 1751.00s]\n",
            "[Epoch 108/200] [D loss: 0.138089] [G loss: 2.382715] [Elapsed time: 1767.76s]\n",
            "[Epoch 109/200] [D loss: 0.258271] [G loss: 1.707583] [Elapsed time: 1784.43s]\n",
            "[Epoch 110/200] [D loss: 0.100415] [G loss: 2.523139] [Elapsed time: 1800.29s]\n",
            "[Epoch 111/200] [D loss: 0.093146] [G loss: 4.327157] [Elapsed time: 1816.26s]\n",
            "[Epoch 112/200] [D loss: 0.103541] [G loss: 2.504541] [Elapsed time: 1832.05s]\n",
            "[Epoch 113/200] [D loss: 0.047221] [G loss: 4.678210] [Elapsed time: 1848.39s]\n",
            "[Epoch 114/200] [D loss: 0.085280] [G loss: 3.529159] [Elapsed time: 1864.52s]\n",
            "[Epoch 115/200] [D loss: 0.062448] [G loss: 4.212381] [Elapsed time: 1879.95s]\n",
            "[Epoch 116/200] [D loss: 0.179535] [G loss: 4.045818] [Elapsed time: 1895.60s]\n",
            "[Epoch 117/200] [D loss: 0.163575] [G loss: 3.352836] [Elapsed time: 1911.96s]\n",
            "[Epoch 118/200] [D loss: 0.116845] [G loss: 2.742461] [Elapsed time: 1927.62s]\n",
            "[Epoch 119/200] [D loss: 0.125243] [G loss: 3.296808] [Elapsed time: 1944.60s]\n",
            "[Epoch 120/200] [D loss: 0.071150] [G loss: 3.472527] [Elapsed time: 1960.62s]\n",
            "[Epoch 121/200] [D loss: 0.117664] [G loss: 2.044265] [Elapsed time: 1976.91s]\n",
            "[Epoch 122/200] [D loss: 0.106172] [G loss: 3.524647] [Elapsed time: 1992.61s]\n",
            "[Epoch 123/200] [D loss: 0.076154] [G loss: 3.124954] [Elapsed time: 2008.37s]\n",
            "[Epoch 124/200] [D loss: 0.210666] [G loss: 1.801871] [Elapsed time: 2024.85s]\n",
            "[Epoch 125/200] [D loss: 0.164153] [G loss: 2.752127] [Elapsed time: 2040.38s]\n",
            "[Epoch 126/200] [D loss: 0.121242] [G loss: 2.691928] [Elapsed time: 2055.85s]\n",
            "[Epoch 127/200] [D loss: 0.137631] [G loss: 5.184991] [Elapsed time: 2072.42s]\n",
            "[Epoch 128/200] [D loss: 0.109410] [G loss: 3.260300] [Elapsed time: 2088.66s]\n",
            "[Epoch 129/200] [D loss: 0.074801] [G loss: 3.877127] [Elapsed time: 2105.84s]\n",
            "[Epoch 130/200] [D loss: 0.253048] [G loss: 7.478820] [Elapsed time: 2122.30s]\n",
            "[Epoch 131/200] [D loss: 0.099903] [G loss: 3.816439] [Elapsed time: 2138.99s]\n",
            "[Epoch 132/200] [D loss: 0.146675] [G loss: 9.586653] [Elapsed time: 2156.14s]\n",
            "[Epoch 133/200] [D loss: 0.159520] [G loss: 5.550645] [Elapsed time: 2173.43s]\n",
            "[Epoch 134/200] [D loss: 0.150882] [G loss: 1.973197] [Elapsed time: 2189.83s]\n",
            "[Epoch 135/200] [D loss: 0.128310] [G loss: 3.614760] [Elapsed time: 2206.48s]\n",
            "[Epoch 136/200] [D loss: 0.123988] [G loss: 2.840657] [Elapsed time: 2223.00s]\n",
            "[Epoch 137/200] [D loss: 0.127739] [G loss: 2.469589] [Elapsed time: 2240.33s]\n",
            "[Epoch 138/200] [D loss: 0.092677] [G loss: 2.926564] [Elapsed time: 2257.29s]\n",
            "[Epoch 139/200] [D loss: 0.322451] [G loss: 6.147961] [Elapsed time: 2274.22s]\n",
            "[Epoch 140/200] [D loss: 0.065784] [G loss: 4.265485] [Elapsed time: 2291.27s]\n",
            "[Epoch 141/200] [D loss: 0.176893] [G loss: 2.053709] [Elapsed time: 2309.22s]\n",
            "[Epoch 142/200] [D loss: 0.054947] [G loss: 3.219251] [Elapsed time: 2325.99s]\n",
            "[Epoch 143/200] [D loss: 0.174072] [G loss: 2.881621] [Elapsed time: 2342.97s]\n",
            "[Epoch 144/200] [D loss: 0.055137] [G loss: 4.049480] [Elapsed time: 2360.10s]\n",
            "[Epoch 145/200] [D loss: 0.082784] [G loss: 2.370457] [Elapsed time: 2377.85s]\n",
            "[Epoch 146/200] [D loss: 0.064609] [G loss: 4.422352] [Elapsed time: 2394.77s]\n",
            "[Epoch 147/200] [D loss: 0.217385] [G loss: 3.782117] [Elapsed time: 2411.72s]\n",
            "[Epoch 148/200] [D loss: 0.134147] [G loss: 3.379225] [Elapsed time: 2429.67s]\n",
            "[Epoch 149/200] [D loss: 0.102853] [G loss: 4.299016] [Elapsed time: 2446.50s]\n",
            "[Epoch 150/200] [D loss: 0.128728] [G loss: 2.367287] [Elapsed time: 2463.38s]\n",
            "[Epoch 151/200] [D loss: 0.332991] [G loss: 6.602271] [Elapsed time: 2480.06s]\n",
            "[Epoch 152/200] [D loss: 0.122981] [G loss: 2.763132] [Elapsed time: 2498.08s]\n",
            "[Epoch 153/200] [D loss: 0.048048] [G loss: 4.410477] [Elapsed time: 2514.69s]\n",
            "[Epoch 154/200] [D loss: 0.183315] [G loss: 3.753582] [Elapsed time: 2531.54s]\n",
            "[Epoch 155/200] [D loss: 0.206320] [G loss: 2.556568] [Elapsed time: 2548.33s]\n",
            "[Epoch 156/200] [D loss: 0.137516] [G loss: 2.834564] [Elapsed time: 2566.08s]\n",
            "[Epoch 157/200] [D loss: 0.661005] [G loss: 2.836227] [Elapsed time: 2582.73s]\n",
            "[Epoch 158/200] [D loss: 0.140946] [G loss: 4.078501] [Elapsed time: 2599.21s]\n",
            "[Epoch 159/200] [D loss: 0.107965] [G loss: 3.240720] [Elapsed time: 2615.72s]\n",
            "[Epoch 160/200] [D loss: 0.149040] [G loss: 4.320401] [Elapsed time: 2633.39s]\n",
            "[Epoch 161/200] [D loss: 0.173562] [G loss: 2.927883] [Elapsed time: 2650.00s]\n",
            "[Epoch 162/200] [D loss: 0.116439] [G loss: 3.701273] [Elapsed time: 2666.42s]\n",
            "[Epoch 163/200] [D loss: 0.105457] [G loss: 2.679552] [Elapsed time: 2683.07s]\n",
            "[Epoch 164/200] [D loss: 0.177641] [G loss: 3.004084] [Elapsed time: 2700.93s]\n",
            "[Epoch 165/200] [D loss: 1.015789] [G loss: 13.967975] [Elapsed time: 2717.31s]\n",
            "[Epoch 166/200] [D loss: 0.075853] [G loss: 3.035376] [Elapsed time: 2733.86s]\n",
            "[Epoch 167/200] [D loss: 0.241018] [G loss: 5.916575] [Elapsed time: 2750.40s]\n",
            "[Epoch 168/200] [D loss: 0.066011] [G loss: 3.453668] [Elapsed time: 2768.78s]\n",
            "[Epoch 169/200] [D loss: 0.243171] [G loss: 5.453406] [Elapsed time: 2786.02s]\n",
            "[Epoch 170/200] [D loss: 0.177868] [G loss: 3.005400] [Elapsed time: 2802.70s]\n",
            "[Epoch 171/200] [D loss: 0.117856] [G loss: 2.684102] [Elapsed time: 2819.29s]\n",
            "[Epoch 172/200] [D loss: 0.076451] [G loss: 2.712086] [Elapsed time: 2837.19s]\n",
            "[Epoch 173/200] [D loss: 0.093638] [G loss: 2.505484] [Elapsed time: 2853.93s]\n",
            "[Epoch 174/200] [D loss: 0.075727] [G loss: 3.476090] [Elapsed time: 2870.41s]\n",
            "[Epoch 175/200] [D loss: 0.404551] [G loss: 5.234658] [Elapsed time: 2887.25s]\n",
            "[Epoch 176/200] [D loss: 0.179546] [G loss: 5.333791] [Elapsed time: 2905.37s]\n",
            "[Epoch 177/200] [D loss: 0.246786] [G loss: 1.885919] [Elapsed time: 2922.11s]\n",
            "[Epoch 178/200] [D loss: 0.155073] [G loss: 3.344259] [Elapsed time: 2938.67s]\n",
            "[Epoch 179/200] [D loss: 0.125048] [G loss: 3.192360] [Elapsed time: 2955.19s]\n",
            "[Epoch 180/200] [D loss: 0.228774] [G loss: 5.758057] [Elapsed time: 2973.03s]\n",
            "[Epoch 181/200] [D loss: 0.178182] [G loss: 2.886696] [Elapsed time: 2989.96s]\n",
            "[Epoch 182/200] [D loss: 0.146781] [G loss: 3.034980] [Elapsed time: 3006.53s]\n",
            "[Epoch 183/200] [D loss: 0.155709] [G loss: 3.907658] [Elapsed time: 3023.03s]\n",
            "[Epoch 184/200] [D loss: 0.152069] [G loss: 2.410627] [Elapsed time: 3040.76s]\n",
            "[Epoch 185/200] [D loss: 0.097378] [G loss: 3.276157] [Elapsed time: 3057.41s]\n",
            "[Epoch 186/200] [D loss: 0.064536] [G loss: 2.928489] [Elapsed time: 3074.22s]\n",
            "[Epoch 187/200] [D loss: 0.161951] [G loss: 4.444524] [Elapsed time: 3090.56s]\n",
            "[Epoch 188/200] [D loss: 0.187969] [G loss: 5.404696] [Elapsed time: 3108.32s]\n",
            "[Epoch 189/200] [D loss: 0.193664] [G loss: 4.507020] [Elapsed time: 3124.68s]\n",
            "[Epoch 190/200] [D loss: 0.204323] [G loss: 3.433408] [Elapsed time: 3141.15s]\n",
            "[Epoch 191/200] [D loss: 0.113858] [G loss: 3.347959] [Elapsed time: 3157.88s]\n",
            "[Epoch 192/200] [D loss: 0.135564] [G loss: 6.043833] [Elapsed time: 3175.75s]\n",
            "[Epoch 193/200] [D loss: 0.135904] [G loss: 3.263194] [Elapsed time: 3192.42s]\n",
            "[Epoch 194/200] [D loss: 0.112027] [G loss: 3.769989] [Elapsed time: 3208.88s]\n",
            "[Epoch 195/200] [D loss: 0.138579] [G loss: 2.346138] [Elapsed time: 3225.51s]\n",
            "[Epoch 196/200] [D loss: 0.197529] [G loss: 1.745444] [Elapsed time: 3243.07s]\n",
            "[Epoch 197/200] [D loss: 0.105121] [G loss: 2.995074] [Elapsed time: 3259.78s]\n",
            "[Epoch 198/200] [D loss: 0.108083] [G loss: 2.109189] [Elapsed time: 3276.15s]\n",
            "[Epoch 199/200] [D loss: 0.132787] [G loss: 3.419281] [Elapsed time: 3292.69s]\n"
          ]
        }
      ]
    },
    {
      "cell_type": "markdown",
      "source": [
        "**왜 generated_imgs.detach()를 사용하는가?**\n",
        "GAN의 학습 과정에서, 생성자와 판별자는 동시에 학습됩니다. 하지만 각자의 손실 함수는 다른 역할을 합니다.\n",
        "**discriminator**는 진짜 이미지와 가짜 이미지를 구별하는 학습을 합니다.\n",
        "**generator**는 discriminator를 속이려고 가짜 이미지를 생성하는 학습을 합니다.\n",
        "**discriminator는 가짜 이미지에 대한 손실을 계산할 때, generated_imgs.detach()**를 사용하여 generator의 기울기가 계산되지 않도록 합니다. 이렇게 하면 discriminator가 가짜 이미지에 대한 손실을 계산하는 데만 집중하게 되며, generator의 파라미터는 영향을 받지 않게 됩니다.\n",
        "generator의 학습은 오직 generator가 생성한 이미지에 대한 손실만을 반영해야 하기 때문에, detached된 generated_imgs는 discriminator에서만 사용되고, generator의 기울기는 업데이트되지 않습니다.\n",
        "\n",
        "\n",
        "\n",
        "\n",
        "-> discriminator를 학습할 때 generated_imgs 가 generator의 파라미터를 업데이트 하는데 영향을 미치지 않도록 하기 위해 사용됨. (generated_imgs 는 생성자에 의해 만들어진 텐서임을 고려)"
      ],
      "metadata": {
        "id": "Otr1iEtZupc0"
      }
    },
    {
      "cell_type": "markdown",
      "source": [
        "\n",
        "# torch.cuda.FloatTensor와 to(device)를 혼용할 경우, **텐서의 장치(device)**와 데이터 타입이 일치하지 않으면 연산 중 문제가 발생할 수 있습니다. 특히, 텐서를 서로 다른 장치로 이동시키거나 텐서의 데이터 타입을 일관성 있게 맞추지 않으면 불일치로 인한 오류가 발생할 수 있습니다."
      ],
      "metadata": {
        "id": "AJQBqfWs14FV"
      }
    },
    {
      "cell_type": "code",
      "source": [
        "# image test\n",
        "from IPython.display import Image\n",
        "\n",
        "Image('92000.png')"
      ],
      "metadata": {
        "colab": {
          "base_uri": "https://localhost:8080/",
          "height": 169
        },
        "id": "AgTV5T0t17q_",
        "outputId": "03be4e79-71f1-4eed-f594-27db3844dd0c"
      },
      "execution_count": null,
      "outputs": [
        {
          "output_type": "execute_result",
          "data": {
            "image/png": "[encoded data removed]",
            "text/plain": [
              "<IPython.core.display.Image object>"
            ]
          },
          "metadata": {},
          "execution_count": 13
        }
      ]
    }
  ]
}